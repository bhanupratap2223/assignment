{
 "cells": [
  {
   "cell_type": "code",
   "execution_count": 2,
   "id": "6be9c302-1f5f-42cd-bba6-57666333cb06",
   "metadata": {},
   "outputs": [
    {
     "data": {
      "text/plain": [
       "[('Sachin Tendulkar', 34357),\n",
       " ('Ricky Ponting', 27483),\n",
       " ('Jack Kallis', 25534),\n",
       " ('Virat Kohli', 24936)]"
      ]
     },
     "execution_count": 2,
     "metadata": {},
     "output_type": "execute_result"
    }
   ],
   "source": [
    "#1. soluction\n",
    "\n",
    "l=[('Sachin Tendulkar', 34357), ('Ricky Ponting', 27483), ('Jack Kallis', 25534), ('Virat Kohli', 24936)]\n",
    "list(map(lambda x: x, l))"
   ]
  },
  {
   "cell_type": "code",
   "execution_count": 4,
   "id": "0a6c46e6-ab97-462f-9fb1-8f959dcbf1e8",
   "metadata": {},
   "outputs": [],
   "source": [
    "#2.soluction\n",
    "\n",
    "l=[1,2,3,4,5,6,7,8,9,10]"
   ]
  },
  {
   "cell_type": "code",
   "execution_count": 5,
   "id": "d5bcd70a-9346-470e-bec8-3d7bcdc4f6ab",
   "metadata": {},
   "outputs": [
    {
     "data": {
      "text/plain": [
       "[1, 4, 9, 16, 25, 36, 49, 64, 81, 100]"
      ]
     },
     "execution_count": 5,
     "metadata": {},
     "output_type": "execute_result"
    }
   ],
   "source": [
    "list(map(lambda x: x**2 , l))"
   ]
  },
  {
   "cell_type": "code",
   "execution_count": 6,
   "id": "1493e49f-cc1f-49d1-9ab4-46f5d399d925",
   "metadata": {},
   "outputs": [],
   "source": [
    "#3.soluction\n",
    "\n",
    "l1=[1,2,3,4,5,6,7,8,9,10]"
   ]
  },
  {
   "cell_type": "code",
   "execution_count": 7,
   "id": "633ab9be-7714-4792-9563-bfa3470cbd99",
   "metadata": {},
   "outputs": [
    {
     "data": {
      "text/plain": [
       "['1', '2', '3', '4', '5', '6', '7', '8', '9', '10']"
      ]
     },
     "execution_count": 7,
     "metadata": {},
     "output_type": "execute_result"
    }
   ],
   "source": [
    "list(map(lambda x: str(x),l1))"
   ]
  },
  {
   "cell_type": "code",
   "execution_count": 8,
   "id": "65bdde33-c5c2-4588-9e35-a2039fa3441f",
   "metadata": {},
   "outputs": [],
   "source": [
    "#4. soluction\n",
    "l3=[]\n",
    "for i in range(1,26):\n",
    "     l3.append(i)\n"
   ]
  },
  {
   "cell_type": "code",
   "execution_count": 9,
   "id": "c127edfd-435b-45fd-99e2-84af25172975",
   "metadata": {},
   "outputs": [],
   "source": [
    "from functools import reduce"
   ]
  },
  {
   "cell_type": "code",
   "execution_count": 10,
   "id": "56cf3992-164d-43a9-b539-d14276d8266b",
   "metadata": {},
   "outputs": [
    {
     "data": {
      "text/plain": [
       "15511210043330985984000000"
      ]
     },
     "execution_count": 10,
     "metadata": {},
     "output_type": "execute_result"
    }
   ],
   "source": [
    "reduce(lambda x ,y : x*y , l3)"
   ]
  },
  {
   "cell_type": "code",
   "execution_count": 13,
   "id": "3cab3e3b-4ff8-4c00-b1a4-677dd05a578e",
   "metadata": {},
   "outputs": [
    {
     "data": {
      "text/plain": [
       "[6, 60, 90, 120]"
      ]
     },
     "execution_count": 13,
     "metadata": {},
     "output_type": "execute_result"
    }
   ],
   "source": [
    "#5. soluction \n",
    "\n",
    "l=[2, 3, 6, 9, 27, 60, 90, 120, 55, 46]\n",
    "list(filter(lambda x: x%6==0 , l))"
   ]
  },
  {
   "cell_type": "code",
   "execution_count": null,
   "id": "9c856ba9-5363-4624-b9fc-36d35feb1fea",
   "metadata": {},
   "outputs": [],
   "source": []
  }
 ],
 "metadata": {
  "kernelspec": {
   "display_name": "Python 3 (ipykernel)",
   "language": "python",
   "name": "python3"
  },
  "language_info": {
   "codemirror_mode": {
    "name": "ipython",
    "version": 3
   },
   "file_extension": ".py",
   "mimetype": "text/x-python",
   "name": "python",
   "nbconvert_exporter": "python",
   "pygments_lexer": "ipython3",
   "version": "3.10.8"
  }
 },
 "nbformat": 4,
 "nbformat_minor": 5
}
