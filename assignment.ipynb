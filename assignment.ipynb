{
 "cells": [
  {
   "cell_type": "code",
   "execution_count": 1,
   "id": "b32b9005-0dab-4ee9-be7b-aa6c21472188",
   "metadata": {},
   "outputs": [
    {
     "ename": "SyntaxError",
     "evalue": "invalid syntax (2081134921.py, line 2)",
     "output_type": "error",
     "traceback": [
      "\u001b[0;36m  Cell \u001b[0;32mIn[1], line 2\u001b[0;36m\u001b[0m\n\u001b[0;31m    user defined as like blueprint attributes ,\u001b[0m\n\u001b[0m         ^\u001b[0m\n\u001b[0;31mSyntaxError\u001b[0m\u001b[0;31m:\u001b[0m invalid syntax\n"
     ]
    }
   ],
   "source": [
    "#1.soluction\n",
    "user defined as like blueprint attributes ,\n",
    "instance methode and it perfroms a way of binding\n",
    "a collection of object to itself to lead large program \n",
    "in manageable"
   ]
  },
  {
   "cell_type": "code",
   "execution_count": null,
   "id": "1e540636-db19-4bb5-8536-64c5ce55e17c",
   "metadata": {},
   "outputs": [],
   "source": [
    "# 2 soluction\n",
    "1.Encapsulation\n",
    "2.Inheritance\n",
    "3.Polymorphism\n",
    "4.Abstraction"
   ]
  },
  {
   "cell_type": "code",
   "execution_count": null,
   "id": "2afc6784-ccf2-4dc7-8b1c-6140ffe785aa",
   "metadata": {},
   "outputs": [],
   "source": [
    "#3.soluction\n",
    "__init__  use it assign values to object properties \n",
    "and creat propertices"
   ]
  },
  {
   "cell_type": "code",
   "execution_count": null,
   "id": "ac7d8dc1-e9c7-4317-8476-42e1faf46299",
   "metadata": {},
   "outputs": [],
   "source": [
    "# 4 soluction\n",
    "ot need only use self creat itself \n",
    "other name and work this identify the\n",
    "instance and access attributes or method"
   ]
  },
  {
   "cell_type": "code",
   "execution_count": null,
   "id": "ec8ea604-1d0f-46b6-b4d8-36c884f893b1",
   "metadata": {},
   "outputs": [],
   "source": [
    "\n",
    "#5.soluction\n",
    "\n",
    "type of inheritance\n",
    "1.single\n",
    "2.multiple\n",
    "3.multilevel\n",
    "4.hierarchical"
   ]
  }
 ],
 "metadata": {
  "kernelspec": {
   "display_name": "Python 3 (ipykernel)",
   "language": "python",
   "name": "python3"
  },
  "language_info": {
   "codemirror_mode": {
    "name": "ipython",
    "version": 3
   },
   "file_extension": ".py",
   "mimetype": "text/x-python",
   "name": "python",
   "nbconvert_exporter": "python",
   "pygments_lexer": "ipython3",
   "version": "3.10.8"
  }
 },
 "nbformat": 4,
 "nbformat_minor": 5
}
