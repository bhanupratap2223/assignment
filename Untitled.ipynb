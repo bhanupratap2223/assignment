{
 "cells": [
  {
   "cell_type": "code",
   "execution_count": 46,
   "id": "4b8d3daf-8faa-4b20-a065-debe9278c19f",
   "metadata": {},
   "outputs": [],
   "source": [
    "'''Q1. Which keyword is used to create a function? Create a function to return a list of odd numbers in the\n",
    "range of 1 to 25.'''\n",
    "def odd():\n",
    "    l=[]\n",
    "    for i in range(1,25):\n",
    "        if i%2 !=0:\n",
    "            l.append(i)\n",
    "    return l"
   ]
  },
  {
   "cell_type": "code",
   "execution_count": 47,
   "id": "57f26448-2080-4cb8-ab26-694c5f09e074",
   "metadata": {},
   "outputs": [
    {
     "data": {
      "text/plain": [
       "[1, 3, 5, 7, 9, 11, 13, 15, 17, 19, 21, 23]"
      ]
     },
     "execution_count": 47,
     "metadata": {},
     "output_type": "execute_result"
    }
   ],
   "source": [
    "odd()"
   ]
  },
  {
   "cell_type": "code",
   "execution_count": 9,
   "id": "f348866a-00f8-495a-aea4-2ab6a1099769",
   "metadata": {},
   "outputs": [],
   "source": [
    "'''Q2. Why *args and **kwargs is used in some functions? Create a function each for *args and **kwargs\n",
    "to demonstrate their use.'''\n",
    "\n",
    "#unsure about the number of arguments to pass in the functions.\n",
    "def test(*args):\n",
    "    return args\n",
    "    \n"
   ]
  },
  {
   "cell_type": "code",
   "execution_count": 12,
   "id": "7d4e39b5-53ee-4678-a7de-2309f72fb6e1",
   "metadata": {},
   "outputs": [
    {
     "data": {
      "text/plain": [
       "(1, 2, 3, 4, 4, 'bhanu', 'shmbhu', 'pintu')"
      ]
     },
     "execution_count": 12,
     "metadata": {},
     "output_type": "execute_result"
    }
   ],
   "source": [
    "test(1,2,3,4,4,\"bhanu\",\"shmbhu\",\"pintu\")"
   ]
  },
  {
   "cell_type": "code",
   "execution_count": 15,
   "id": "bc5ced4c-803d-4c4d-b6c7-fc9f29840c35",
   "metadata": {},
   "outputs": [],
   "source": [
    "def test1(**kwargs):\n",
    "    return kwargs"
   ]
  },
  {
   "cell_type": "code",
   "execution_count": 16,
   "id": "3f2e75a9-7a6d-4d9e-a536-54811da6ae7c",
   "metadata": {},
   "outputs": [
    {
     "data": {
      "text/plain": [
       "dict"
      ]
     },
     "execution_count": 16,
     "metadata": {},
     "output_type": "execute_result"
    }
   ],
   "source": [
    "type(test1())"
   ]
  },
  {
   "cell_type": "code",
   "execution_count": 18,
   "id": "b3e441ee-a803-4004-b266-53582e678dbe",
   "metadata": {},
   "outputs": [
    {
     "data": {
      "text/plain": [
       "{'a': ['bhanu', 'shambhu'], 'c': 1}"
      ]
     },
     "execution_count": 18,
     "metadata": {},
     "output_type": "execute_result"
    }
   ],
   "source": [
    "test1(a=[\"bhanu\",\"shambhu\",],c=1)"
   ]
  },
  {
   "cell_type": "code",
   "execution_count": 21,
   "id": "4d84e45b-9755-4d4c-90f5-aaa97644e781",
   "metadata": {},
   "outputs": [
    {
     "name": "stdout",
     "output_type": "stream",
     "text": [
      "2\n",
      "4\n",
      "6\n",
      "8\n",
      "10\n"
     ]
    }
   ],
   "source": [
    "#3.soluction\n",
    "'''Iterators are methods that iterate collections like lists, tuples,\n",
    "Using an iterator method, we can loop through an object and return its elements.\n",
    "The for loop in Python is used to iterate over a sequence of elements, such as a list,\n",
    "tuple, or string. When we use the for loop with an iterator, the loop will automatically\n",
    "iterate over the elements of the iterator until it is exhausted.'''\n",
    "\n",
    "l=[2, 4, 6, 8, 10, 12, 14,16, 18, 20]\n",
    "i=0\n",
    "for a in l:\n",
    "    if i<5:\n",
    "        print(a)\n",
    "        i+=1"
   ]
  },
  {
   "cell_type": "code",
   "execution_count": 16,
   "id": "6d0e053c-26c5-4132-a7d1-3d1b31bf5ec9",
   "metadata": {},
   "outputs": [],
   "source": [
    "'''Generator function contains one or more yield statement \n",
    "which returns an object (iterator) but does not start \n",
    "execution immediately. and yield keyword use return statement'''\n",
    "\n",
    "def square():\n",
    "    for i in range(1,6):\n",
    "        yield i**2"
   ]
  },
  {
   "cell_type": "code",
   "execution_count": 13,
   "id": "03942233-2860-405d-ad97-cfea2db78e74",
   "metadata": {},
   "outputs": [
    {
     "name": "stdin",
     "output_type": "stream",
     "text": [
      "entar a number 10\n"
     ]
    },
    {
     "name": "stdout",
     "output_type": "stream",
     "text": [
      "0\n",
      "1\n",
      "1\n",
      "2\n",
      "3\n",
      "5\n",
      "8\n",
      "13\n",
      "21\n"
     ]
    }
   ],
   "source": [
    "n=int(input(\"entar a number\"))\n",
    "i=1\n",
    "a , b = 0,1\n",
    "while i<n:\n",
    "    print(a)\n",
    "    c=a+b\n",
    "    a=b\n",
    "    b=c\n",
    "    i=i+1\n",
    "\n",
    "    "
   ]
  },
  {
   "cell_type": "code",
   "execution_count": 17,
   "id": "e5042278-a622-439d-895c-8b6b2468493e",
   "metadata": {},
   "outputs": [
    {
     "name": "stdout",
     "output_type": "stream",
     "text": [
      "['p', 'w', 's', 'k', 'i', 'l', 'l']\n"
     ]
    }
   ],
   "source": [
    "l= \"pwskill\"\n",
    "l1=[]\n",
    "for i in l:\n",
    "    l1.append(i)\n",
    "print(l1)"
   ]
  },
  {
   "cell_type": "code",
   "execution_count": null,
   "id": "a59b43d6-eec3-473a-8e2c-28fea77e1568",
   "metadata": {},
   "outputs": [],
   "source": []
  },
  {
   "cell_type": "code",
   "execution_count": 41,
   "id": "ee62cb37-e88c-485c-a8fe-9cb816eeade9",
   "metadata": {},
   "outputs": [
    {
     "data": {
      "text/plain": [
       "['P', 'W', 'S', 'K', 'I', 'L', 'L', 'S']"
      ]
     },
     "execution_count": 41,
     "metadata": {},
     "output_type": "execute_result"
    }
   ],
   "source": [
    "l= \"pwskills\"\n",
    "[i.upper() for i in l  ]\n"
   ]
  },
  {
   "cell_type": "code",
   "execution_count": 50,
   "id": "4c3c6490-3277-4338-a697-90bc9426567b",
   "metadata": {},
   "outputs": [
    {
     "ename": "AttributeError",
     "evalue": "'int' object has no attribute 'upper'",
     "output_type": "error",
     "traceback": [
      "\u001b[0;31m---------------------------------------------------------------------------\u001b[0m",
      "\u001b[0;31mAttributeError\u001b[0m                            Traceback (most recent call last)",
      "Cell \u001b[0;32mIn[50], line 1\u001b[0m\n\u001b[0;32m----> 1\u001b[0m [i\u001b[38;5;241m.\u001b[39mupper() \u001b[38;5;28;01mfor\u001b[39;00m i \u001b[38;5;129;01min\u001b[39;00m \u001b[38;5;28mrange\u001b[39m(\u001b[38;5;241m1\u001b[39m,\u001b[38;5;241m100\u001b[39m,\u001b[38;5;241m2\u001b[39m)]\n",
      "Cell \u001b[0;32mIn[50], line 1\u001b[0m, in \u001b[0;36m<listcomp>\u001b[0;34m(.0)\u001b[0m\n\u001b[0;32m----> 1\u001b[0m [\u001b[43mi\u001b[49m\u001b[38;5;241;43m.\u001b[39;49m\u001b[43mupper\u001b[49m() \u001b[38;5;28;01mfor\u001b[39;00m i \u001b[38;5;129;01min\u001b[39;00m \u001b[38;5;28mrange\u001b[39m(\u001b[38;5;241m1\u001b[39m,\u001b[38;5;241m100\u001b[39m,\u001b[38;5;241m2\u001b[39m)]\n",
      "\u001b[0;31mAttributeError\u001b[0m: 'int' object has no attribute 'upper'"
     ]
    }
   ],
   "source": [
    "[i.upper() for i in range(1,100,2)]"
   ]
  },
  {
   "cell_type": "code",
   "execution_count": null,
   "id": "117c6c40-11a1-45a8-b437-7be01d0101fb",
   "metadata": {},
   "outputs": [],
   "source": []
  }
 ],
 "metadata": {
  "kernelspec": {
   "display_name": "Python 3 (ipykernel)",
   "language": "python",
   "name": "python3"
  },
  "language_info": {
   "codemirror_mode": {
    "name": "ipython",
    "version": 3
   },
   "file_extension": ".py",
   "mimetype": "text/x-python",
   "name": "python",
   "nbconvert_exporter": "python",
   "pygments_lexer": "ipython3",
   "version": "3.10.8"
  }
 },
 "nbformat": 4,
 "nbformat_minor": 5
}
